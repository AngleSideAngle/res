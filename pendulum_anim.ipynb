{
 "cells": [
  {
   "cell_type": "code",
   "execution_count": 1,
   "metadata": {},
   "outputs": [],
   "source": [
    "%matplotlib tk"
   ]
  },
  {
   "cell_type": "code",
   "execution_count": 2,
   "metadata": {},
   "outputs": [],
   "source": [
    "from IPython.display import HTML\n",
    "from matplotlib import animation\n",
    "import numpy as np"
   ]
  },
  {
   "cell_type": "code",
   "execution_count": 3,
   "metadata": {},
   "outputs": [],
   "source": [
    "from pydrake.multibody.parsing import Parser\n",
    "from pydrake.multibody.plant import AddMultibodyPlantSceneGraph\n",
    "from pydrake.systems.analysis import Simulator\n",
    "from pydrake.systems.framework import DiagramBuilder\n",
    "from pydrake.systems.planar_scenegraph_visualizer import (\n",
    "    ConnectPlanarSceneGraphVisualizer)"
   ]
  },
  {
   "cell_type": "code",
   "execution_count": 4,
   "metadata": {},
   "outputs": [],
   "source": [
    "def run_pendulum_example(duration=1., playback=True, show=True):\n",
    "    \"\"\"\n",
    "    Runs a simulation of a pendulum.\n",
    "\n",
    "    Arguments:\n",
    "        duration: Simulation duration (sec).\n",
    "        playback: Enable pyplot animations to be produced.\n",
    "    \"\"\"\n",
    "    builder = DiagramBuilder()\n",
    "    plant, scene_graph = AddMultibodyPlantSceneGraph(builder, 0.)\n",
    "    parser = Parser(plant)\n",
    "    parser.AddModels(\n",
    "        url=\"package://drake/examples/pendulum/Pendulum.urdf\")\n",
    "    plant.Finalize()\n",
    "\n",
    "    T_VW = np.array([[1., 0., 0., 0.],\n",
    "                     [0., 0., 1., 0.],\n",
    "                     [0., 0., 0., 1.]])\n",
    "    visualizer = ConnectPlanarSceneGraphVisualizer(\n",
    "        builder, scene_graph, T_VW=T_VW, xlim=[-1.2, 1.2],\n",
    "        ylim=[-1.2, 1.2], show=show)\n",
    "    if playback:\n",
    "        visualizer.start_recording()\n",
    "    \n",
    "    diagram = builder.Build()\n",
    "    simulator = Simulator(diagram)\n",
    "    simulator.Initialize()\n",
    "    simulator.set_target_realtime_rate(1.)\n",
    "\n",
    "    # Fix the input port to zero.\n",
    "    plant_context = diagram.GetMutableSubsystemContext(\n",
    "        plant, simulator.get_mutable_context())\n",
    "    plant.get_actuation_input_port().FixValue(\n",
    "        plant_context, np.zeros(plant.num_actuators()))\n",
    "    plant_context.SetContinuousState([0.5, 16])\n",
    "    simulator.AdvanceTo(duration)\n",
    "\n",
    "    if playback:\n",
    "        visualizer.stop_recording()\n",
    "        ani = visualizer.get_recording_as_animation()\n",
    "        return ani\n",
    "    else:\n",
    "        return None"
   ]
  },
  {
   "cell_type": "code",
   "execution_count": 5,
   "metadata": {},
   "outputs": [
    {
     "data": {
      "text/plain": [
       "<matplotlib.animation.FuncAnimation at 0x7f3b47be7390>"
      ]
     },
     "execution_count": 5,
     "metadata": {},
     "output_type": "execute_result"
    }
   ],
   "source": [
    "run_pendulum_example(duration=10, playback=True)"
   ]
  },
  {
   "cell_type": "code",
   "execution_count": null,
   "metadata": {},
   "outputs": [],
   "source": []
  }
 ],
 "metadata": {
  "kernelspec": {
   "display_name": ".venv",
   "language": "python",
   "name": "python3"
  },
  "language_info": {
   "codemirror_mode": {
    "name": "ipython",
    "version": 3
   },
   "file_extension": ".py",
   "mimetype": "text/x-python",
   "name": "python",
   "nbconvert_exporter": "python",
   "pygments_lexer": "ipython3",
   "version": "3.11.6"
  }
 },
 "nbformat": 4,
 "nbformat_minor": 2
}
